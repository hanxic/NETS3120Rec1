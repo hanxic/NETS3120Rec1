{
  "nbformat": 4,
  "nbformat_minor": 0,
  "metadata": {
    "colab": {
      "provenance": [],
      "toc_visible": true
    },
    "kernelspec": {
      "name": "python3",
      "display_name": "Python 3"
    },
    "language_info": {
      "name": "python"
    }
  },
  "cells": [
    {
      "cell_type": "markdown",
      "source": [
        "# API Access\n",
        "## An (Pseudo)Interactive notebook\n",
        "\n",
        "This is an pseudo-interactive notebook designed to showcase the key features and nuances of **Fetching user's information through API**.\n",
        "If you are unfamiliar with how requests, Facebook Graph API, Instagram Graph API, or Reddit API works, be sure to read or skim through the following sections!\n",
        "\n",
        "The notebook is structured in the following way:\n",
        "\n"
      ],
      "metadata": {
        "id": "ueseaKqu4Ve2"
      }
    },
    {
      "cell_type": "markdown",
      "source": [
        "# Facebook Graph API\n",
        "\n",
        "In this section, you will learn the preliminary techniques of using Facebook Graph API. Specifically, you will be introduced:\n",
        "\n",
        "*   Setting up Meta Developer Account and App\n",
        "*   Connecting with Facebook Graph API through Python\n",
        "*   Basic operations on fetching user data\n",
        "\n"
      ],
      "metadata": {
        "id": "6B-u4K6hEPFl"
      }
    },
    {
      "cell_type": "markdown",
      "source": [],
      "metadata": {
        "id": "OEIicM9KEeAm"
      }
    },
    {
      "cell_type": "code",
      "source": [
        "# Facebook Graph API"
      ],
      "metadata": {
        "id": "hShwOcVDEA7E"
      },
      "execution_count": null,
      "outputs": []
    },
    {
      "cell_type": "code",
      "execution_count": 1,
      "metadata": {
        "colab": {
          "base_uri": "https://localhost:8080/"
        },
        "id": "bvHwlEat4Svu",
        "outputId": "e84908a2-c025-48c8-985a-4f4b06760233"
      },
      "outputs": [
        {
          "output_type": "stream",
          "name": "stdout",
          "text": [
            "Collecting facebook-sdk\n",
            "  Downloading facebook_sdk-3.1.0-py2.py3-none-any.whl (7.5 kB)\n",
            "Requirement already satisfied: requests in /usr/local/lib/python3.10/dist-packages (from facebook-sdk) (2.31.0)\n",
            "Requirement already satisfied: charset-normalizer<4,>=2 in /usr/local/lib/python3.10/dist-packages (from requests->facebook-sdk) (3.3.2)\n",
            "Requirement already satisfied: idna<4,>=2.5 in /usr/local/lib/python3.10/dist-packages (from requests->facebook-sdk) (3.6)\n",
            "Requirement already satisfied: urllib3<3,>=1.21.1 in /usr/local/lib/python3.10/dist-packages (from requests->facebook-sdk) (2.0.7)\n",
            "Requirement already satisfied: certifi>=2017.4.17 in /usr/local/lib/python3.10/dist-packages (from requests->facebook-sdk) (2023.11.17)\n",
            "Installing collected packages: facebook-sdk\n",
            "Successfully installed facebook-sdk-3.1.0\n"
          ]
        }
      ],
      "source": [
        "!pip install facebook-sdk\n",
        "import urllib3, facebook, requests"
      ]
    },
    {
      "cell_type": "code",
      "source": [
        "meta_token = 'EAAFloflMBi0BOy4YUvxwDZAMgugED0DEbFvNNPS0xwL4CaxEoLfqUlcmzff6XmIPpChFxqg5sfYQZBqYAbXjSV6deRu8oBRJRzhysiELYITUzKqtZCjpcJmjZA7J67ZA7ZAK7xOZA7rZAYZBVM2mwfZCa8pYghfaaapiIN8LMP0BrwzKMqHCQtGMb81fDgKoBgkeUPlDb1T5quCAMC0QEgU5enZBadpp6TIzCPxPlGkZCBuwLhkUZCelnGVC0Boq1ZCyYRfwZDZD'"
      ],
      "metadata": {
        "id": "wUzw_Oba8S0W"
      },
      "execution_count": 2,
      "outputs": []
    },
    {
      "cell_type": "code",
      "source": [
        "graph = facebook.GraphAPI(meta_token)"
      ],
      "metadata": {
        "id": "10OcHHG88fO9"
      },
      "execution_count": 3,
      "outputs": []
    },
    {
      "cell_type": "code",
      "source": [
        "profile = graph.get_object('me', fields='email')\n",
        "profile"
      ],
      "metadata": {
        "colab": {
          "base_uri": "https://localhost:8080/"
        },
        "id": "UyXt59t88m5V",
        "outputId": "585c6fe7-b5f8-4037-c213-55b3c7f24d7f"
      },
      "execution_count": 4,
      "outputs": [
        {
          "output_type": "execute_result",
          "data": {
            "text/plain": [
              "{'email': 'garychen2000@outlook.com', 'id': '1885364601919590'}"
            ]
          },
          "metadata": {},
          "execution_count": 4
        }
      ]
    },
    {
      "cell_type": "code",
      "source": [
        "x = requests.get(\"https://graph.facebook.com/me?access_token=\" + meta_token)"
      ],
      "metadata": {
        "id": "2QyoKWW29GW9"
      },
      "execution_count": 6,
      "outputs": []
    },
    {
      "cell_type": "code",
      "source": [
        "x.text"
      ],
      "metadata": {
        "colab": {
          "base_uri": "https://localhost:8080/",
          "height": 35
        },
        "id": "Akbtqnih9ZIB",
        "outputId": "d3b7c9b1-418c-404c-9d0b-0dff88e23339"
      },
      "execution_count": 8,
      "outputs": [
        {
          "output_type": "execute_result",
          "data": {
            "text/plain": [
              "'{\"name\":\"Gary Chen\",\"id\":\"1885364601919590\"}'"
            ],
            "application/vnd.google.colaboratory.intrinsic+json": {
              "type": "string"
            }
          },
          "metadata": {},
          "execution_count": 8
        }
      ]
    },
    {
      "cell_type": "markdown",
      "source": [
        "# Instagram Graph API"
      ],
      "metadata": {
        "id": "LbXtHVG1ESK1"
      }
    },
    {
      "cell_type": "markdown",
      "source": [
        "# Reddit API"
      ],
      "metadata": {
        "id": "z1IyczvwET-E"
      }
    },
    {
      "cell_type": "markdown",
      "source": [
        "# Web Crawler"
      ],
      "metadata": {
        "id": "hfHE_CfEEWac"
      }
    }
  ]
}